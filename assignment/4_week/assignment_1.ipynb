{
  "nbformat": 4,
  "nbformat_minor": 0,
  "metadata": {
    "colab": {
      "name": "assignment_1",
      "provenance": [],
      "collapsed_sections": [],
      "include_colab_link": true
    },
    "kernelspec": {
      "name": "python3",
      "display_name": "Python 3"
    }
  },
  "cells": [
    {
      "cell_type": "markdown",
      "metadata": {
        "id": "view-in-github",
        "colab_type": "text"
      },
      "source": [
        "<a href=\"https://colab.research.google.com/github/jaeheon209/prgrms-de/blob/master/assignment/4_week/assignment_1.ipynb\" target=\"_parent\"><img src=\"https://colab.research.google.com/assets/colab-badge.svg\" alt=\"Open In Colab\"/></a>"
      ]
    },
    {
      "cell_type": "code",
      "metadata": {
        "id": "z565vC4I9V0d",
        "colab_type": "code",
        "colab": {}
      },
      "source": [
        "import psycopg2\n",
        "\n",
        "# Redshift connection 함수\n",
        "def get_Redshift_connection():\n",
        "    host = \"grepp-data.cduaw970ssvt.ap-northeast-2.redshift.amazonaws.com\"\n",
        "    redshift_user = \"\"\n",
        "    redshift_pass = \"\"\n",
        "    port = 5439\n",
        "    dbname = \"dev\"\n",
        "    conn = psycopg2.connect(\"dbname={dbname} user={user} host={host} password={password} port={port}\".format(\n",
        "        dbname=dbname,\n",
        "        user=redshift_user,\n",
        "        password=redshift_pass,\n",
        "        host=host,\n",
        "        port=port\n",
        "    ))\n",
        "    conn.set_session(autocommit=True)\n",
        "    return conn.cursor()"
      ],
      "execution_count": null,
      "outputs": []
    },
    {
      "cell_type": "markdown",
      "metadata": {
        "id": "XVtoIXUGWcWR",
        "colab_type": "text"
      },
      "source": [
        "# ETL 함수를 하나씩 정의"
      ]
    },
    {
      "cell_type": "code",
      "metadata": {
        "id": "gjDwY95epWDi",
        "colab_type": "code",
        "colab": {}
      },
      "source": [
        "import requests\n",
        "\n",
        "def extract(url):\n",
        "    f = requests.get(link)\n",
        "    return (f.text)"
      ],
      "execution_count": null,
      "outputs": []
    },
    {
      "cell_type": "code",
      "metadata": {
        "id": "0pz_AfKj8vXl",
        "colab_type": "code",
        "colab": {}
      },
      "source": [
        "def transform(text):\n",
        "    lines = text.split(\"\\n\")\n",
        "    return lines"
      ],
      "execution_count": null,
      "outputs": []
    },
    {
      "cell_type": "code",
      "metadata": {
        "id": "whLfutS48yCX",
        "colab_type": "code",
        "colab": {}
      },
      "source": [
        "def load(text):\n",
        "    cur = get_Redshift_connection()\n",
        "    for r in text:\n",
        "        if r != '':\n",
        "            (name, gender) = r.split(\",\")\n",
        "            print(name, \"-\", gender)\n",
        "            sql = \"INSERT INTO raw_data.name_gender VALUES ('{name}', '{gender}')\".format(name=name, gender=gender)\n",
        "            print(sql)\n",
        "            cur.execute(sql)"
      ],
      "execution_count": null,
      "outputs": []
    },
    {
      "cell_type": "markdown",
      "metadata": {
        "id": "nOOqLjKsWj7g",
        "colab_type": "text"
      },
      "source": [
        "# 이제 Extract부터 함수를 하나씩 실행"
      ]
    },
    {
      "cell_type": "code",
      "metadata": {
        "id": "8cGBsu5Mv4J2",
        "colab_type": "code",
        "colab": {}
      },
      "source": [
        "link = \"https://s3-geospatial.s3-us-west-2.amazonaws.com/name_gender.csv\"\n",
        "\n",
        "data = extract(link)"
      ],
      "execution_count": null,
      "outputs": []
    },
    {
      "cell_type": "code",
      "metadata": {
        "id": "NYVbGIWJ84tm",
        "colab_type": "code",
        "colab": {}
      },
      "source": [
        "lines = transform(data)"
      ],
      "execution_count": null,
      "outputs": []
    },
    {
      "cell_type": "code",
      "metadata": {
        "id": "iWeBp9YA86-O",
        "colab_type": "code",
        "colab": {}
      },
      "source": [
        "load(lines)"
      ],
      "execution_count": null,
      "outputs": []
    },
    {
      "cell_type": "code",
      "metadata": {
        "id": "b2tCeJtSWti4",
        "colab_type": "code",
        "colab": {}
      },
      "source": [
        ""
      ],
      "execution_count": null,
      "outputs": []
    }
  ]
}